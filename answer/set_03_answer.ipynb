{
 "cells": [
  {
   "cell_type": "code",
   "execution_count": 1,
   "id": "dfa0efdd",
   "metadata": {},
   "outputs": [],
   "source": [
    "import pandas as pd\n",
    "import numpy as np\n",
    "\n",
    "from sklearn.preprocessing import MinMaxScaler\n",
    "from sklearn.model_selection import train_test_split\n",
    "from sklearn.neighbors import KNeighborsRegressor\n",
    "from sklearn.metrics import mean_squared_error"
   ]
  },
  {
   "cell_type": "code",
   "execution_count": 2,
   "id": "56a115a2",
   "metadata": {},
   "outputs": [
    {
     "data": {
      "text/html": [
       "<div>\n",
       "<style scoped>\n",
       "    .dataframe tbody tr th:only-of-type {\n",
       "        vertical-align: middle;\n",
       "    }\n",
       "\n",
       "    .dataframe tbody tr th {\n",
       "        vertical-align: top;\n",
       "    }\n",
       "\n",
       "    .dataframe thead th {\n",
       "        text-align: right;\n",
       "    }\n",
       "</style>\n",
       "<table border=\"1\" class=\"dataframe\">\n",
       "  <thead>\n",
       "    <tr style=\"text-align: right;\">\n",
       "      <th></th>\n",
       "      <th>screen_size</th>\n",
       "      <th>ROM</th>\n",
       "      <th>RAM</th>\n",
       "      <th>num_rear_camera</th>\n",
       "      <th>num_front_camera</th>\n",
       "      <th>battery_capacity</th>\n",
       "      <th>ratings</th>\n",
       "      <th>num_of_ratings</th>\n",
       "      <th>sales_price</th>\n",
       "      <th>discount_percent</th>\n",
       "      <th>sales</th>\n",
       "    </tr>\n",
       "  </thead>\n",
       "  <tbody>\n",
       "    <tr>\n",
       "      <th>0</th>\n",
       "      <td>Very Small</td>\n",
       "      <td>64</td>\n",
       "      <td>2</td>\n",
       "      <td>1</td>\n",
       "      <td>1</td>\n",
       "      <td>1800</td>\n",
       "      <td>4.5</td>\n",
       "      <td>38645</td>\n",
       "      <td>32999</td>\n",
       "      <td>0.17</td>\n",
       "      <td>127.52</td>\n",
       "    </tr>\n",
       "    <tr>\n",
       "      <th>1</th>\n",
       "      <td>Small</td>\n",
       "      <td>64</td>\n",
       "      <td>4</td>\n",
       "      <td>2</td>\n",
       "      <td>1</td>\n",
       "      <td>2815</td>\n",
       "      <td>4.5</td>\n",
       "      <td>244</td>\n",
       "      <td>57149</td>\n",
       "      <td>0.04</td>\n",
       "      <td>1.39</td>\n",
       "    </tr>\n",
       "  </tbody>\n",
       "</table>\n",
       "</div>"
      ],
      "text/plain": [
       "  screen_size  ROM  RAM  num_rear_camera  num_front_camera  battery_capacity  \\\n",
       "0  Very Small   64    2                1                 1              1800   \n",
       "1       Small   64    4                2                 1              2815   \n",
       "\n",
       "   ratings  num_of_ratings  sales_price  discount_percent   sales  \n",
       "0      4.5           38645        32999              0.17  127.52  \n",
       "1      4.5             244        57149              0.04    1.39  "
      ]
     },
     "execution_count": 2,
     "metadata": {},
     "output_type": "execute_result"
    }
   ],
   "source": [
    "df = pd.read_csv(\"mobiles.csv\")\n",
    "df.head(2)"
   ]
  },
  {
   "cell_type": "markdown",
   "id": "ec7b5e0e",
   "metadata": {},
   "source": [
    "### Q1."
   ]
  },
  {
   "cell_type": "code",
   "execution_count": 4,
   "id": "efca2cf6",
   "metadata": {},
   "outputs": [
    {
     "data": {
      "text/plain": [
       "146.55150129273218"
      ]
     },
     "execution_count": 4,
     "metadata": {},
     "output_type": "execute_result"
    }
   ],
   "source": [
    "stat_mean = df[\"sales\"].mean()\n",
    "stat_std  = df[\"sales\"].std()\n",
    "stat_out  = stat_mean + 2 * stat_std\n",
    "stat_out"
   ]
  },
  {
   "cell_type": "code",
   "execution_count": null,
   "id": "7f0830bb",
   "metadata": {},
   "outputs": [],
   "source": [
    "df_q1 = df.loc[df[\"sales\"] > stat_out, ].reset_index(drop = True)\n",
    "df_q1.head(2)"
   ]
  },
  {
   "cell_type": "code",
   "execution_count": 7,
   "id": "0a70e636",
   "metadata": {},
   "outputs": [
    {
     "data": {
      "text/plain": [
       "16"
      ]
     },
     "execution_count": 7,
     "metadata": {},
     "output_type": "execute_result"
    }
   ],
   "source": [
    "len(df_q1)"
   ]
  },
  {
   "cell_type": "code",
   "execution_count": 8,
   "id": "5ae4fbb9",
   "metadata": {},
   "outputs": [],
   "source": [
    "df_q1[\"idx\"] = (df_q1[\"ROM\"] / 32) + (df_q1[\"RAM\"] / 2) +\\\n",
    "(df_q1[\"num_front_camera\"] + df_q1[\"num_rear_camera\"]) + (df_q1[\"battery_capacity\"] / 1000)"
   ]
  },
  {
   "cell_type": "code",
   "execution_count": 9,
   "id": "696ba4dd",
   "metadata": {},
   "outputs": [
    {
     "data": {
      "text/plain": [
       "11.01125"
      ]
     },
     "execution_count": 9,
     "metadata": {},
     "output_type": "execute_result"
    }
   ],
   "source": [
    "df_q1[\"idx\"].mean()"
   ]
  },
  {
   "cell_type": "markdown",
   "id": "cd9f420d",
   "metadata": {},
   "source": [
    "### Q2."
   ]
  },
  {
   "cell_type": "code",
   "execution_count": 16,
   "id": "ba151c93",
   "metadata": {},
   "outputs": [
    {
     "data": {
      "text/plain": [
       "array([1, 2, 3, 4], dtype=int64)"
      ]
     },
     "execution_count": 16,
     "metadata": {},
     "output_type": "execute_result"
    }
   ],
   "source": [
    "df[\"num_rear_camera\"].unique()"
   ]
  },
  {
   "cell_type": "code",
   "execution_count": 15,
   "id": "55ba4518",
   "metadata": {},
   "outputs": [
    {
     "data": {
      "text/html": [
       "<div>\n",
       "<style scoped>\n",
       "    .dataframe tbody tr th:only-of-type {\n",
       "        vertical-align: middle;\n",
       "    }\n",
       "\n",
       "    .dataframe tbody tr th {\n",
       "        vertical-align: top;\n",
       "    }\n",
       "\n",
       "    .dataframe thead th {\n",
       "        text-align: right;\n",
       "    }\n",
       "</style>\n",
       "<table border=\"1\" class=\"dataframe\">\n",
       "  <thead>\n",
       "    <tr style=\"text-align: right;\">\n",
       "      <th></th>\n",
       "      <th>battery_capacity</th>\n",
       "      <th>ratings</th>\n",
       "      <th>num_of_ratings</th>\n",
       "      <th>sales_price</th>\n",
       "      <th>discount_percent</th>\n",
       "      <th>sales</th>\n",
       "    </tr>\n",
       "  </thead>\n",
       "  <tbody>\n",
       "    <tr>\n",
       "      <th>1</th>\n",
       "      <td>2815</td>\n",
       "      <td>4.5</td>\n",
       "      <td>244</td>\n",
       "      <td>57149</td>\n",
       "      <td>0.04</td>\n",
       "      <td>1.39</td>\n",
       "    </tr>\n",
       "    <tr>\n",
       "      <th>4</th>\n",
       "      <td>2815</td>\n",
       "      <td>4.6</td>\n",
       "      <td>745</td>\n",
       "      <td>69149</td>\n",
       "      <td>0.02</td>\n",
       "      <td>5.15</td>\n",
       "    </tr>\n",
       "  </tbody>\n",
       "</table>\n",
       "</div>"
      ],
      "text/plain": [
       "   battery_capacity  ratings  num_of_ratings  sales_price  discount_percent  \\\n",
       "1              2815      4.5             244        57149              0.04   \n",
       "4              2815      4.6             745        69149              0.02   \n",
       "\n",
       "   sales  \n",
       "1   1.39  \n",
       "4   5.15  "
      ]
     },
     "execution_count": 15,
     "metadata": {},
     "output_type": "execute_result"
    }
   ],
   "source": [
    "df_q2 = df.loc[df[\"num_rear_camera\"] != 1, \"battery_capacity\":]\n",
    "df_q2.head(2)"
   ]
  },
  {
   "cell_type": "code",
   "execution_count": 22,
   "id": "b7aea677",
   "metadata": {},
   "outputs": [
    {
     "data": {
      "text/plain": [
       "0.95"
      ]
     },
     "execution_count": 22,
     "metadata": {},
     "output_type": "execute_result"
    }
   ],
   "source": [
    "df_q2.corr().abs().round(2)[\"sales\"][:-1].max()"
   ]
  },
  {
   "cell_type": "code",
   "execution_count": 24,
   "id": "cc155aab",
   "metadata": {
    "collapsed": true
   },
   "outputs": [
    {
     "data": {
      "text/html": [
       "<div>\n",
       "<style scoped>\n",
       "    .dataframe tbody tr th:only-of-type {\n",
       "        vertical-align: middle;\n",
       "    }\n",
       "\n",
       "    .dataframe tbody tr th {\n",
       "        vertical-align: top;\n",
       "    }\n",
       "\n",
       "    .dataframe thead th {\n",
       "        text-align: right;\n",
       "    }\n",
       "</style>\n",
       "<table border=\"1\" class=\"dataframe\">\n",
       "  <thead>\n",
       "    <tr style=\"text-align: right;\">\n",
       "      <th></th>\n",
       "      <th>battery_capacity</th>\n",
       "      <th>ratings</th>\n",
       "      <th>num_of_ratings</th>\n",
       "      <th>sales_price</th>\n",
       "      <th>discount_percent</th>\n",
       "      <th>sales</th>\n",
       "    </tr>\n",
       "  </thead>\n",
       "  <tbody>\n",
       "    <tr>\n",
       "      <th>battery_capacity</th>\n",
       "      <td>1.000000</td>\n",
       "      <td>-0.424129</td>\n",
       "      <td>0.034902</td>\n",
       "      <td>-0.503019</td>\n",
       "      <td>0.257373</td>\n",
       "      <td>0.025680</td>\n",
       "    </tr>\n",
       "    <tr>\n",
       "      <th>ratings</th>\n",
       "      <td>-0.424129</td>\n",
       "      <td>1.000000</td>\n",
       "      <td>0.191655</td>\n",
       "      <td>0.151153</td>\n",
       "      <td>-0.118578</td>\n",
       "      <td>0.226075</td>\n",
       "    </tr>\n",
       "    <tr>\n",
       "      <th>num_of_ratings</th>\n",
       "      <td>0.034902</td>\n",
       "      <td>0.191655</td>\n",
       "      <td>1.000000</td>\n",
       "      <td>-0.260279</td>\n",
       "      <td>0.212442</td>\n",
       "      <td>0.949114</td>\n",
       "    </tr>\n",
       "    <tr>\n",
       "      <th>sales_price</th>\n",
       "      <td>-0.503019</td>\n",
       "      <td>0.151153</td>\n",
       "      <td>-0.260279</td>\n",
       "      <td>1.000000</td>\n",
       "      <td>-0.098640</td>\n",
       "      <td>-0.247760</td>\n",
       "    </tr>\n",
       "    <tr>\n",
       "      <th>discount_percent</th>\n",
       "      <td>0.257373</td>\n",
       "      <td>-0.118578</td>\n",
       "      <td>0.212442</td>\n",
       "      <td>-0.098640</td>\n",
       "      <td>1.000000</td>\n",
       "      <td>0.223471</td>\n",
       "    </tr>\n",
       "    <tr>\n",
       "      <th>sales</th>\n",
       "      <td>0.025680</td>\n",
       "      <td>0.226075</td>\n",
       "      <td>0.949114</td>\n",
       "      <td>-0.247760</td>\n",
       "      <td>0.223471</td>\n",
       "      <td>1.000000</td>\n",
       "    </tr>\n",
       "  </tbody>\n",
       "</table>\n",
       "</div>"
      ],
      "text/plain": [
       "                  battery_capacity   ratings  num_of_ratings  sales_price  \\\n",
       "battery_capacity          1.000000 -0.424129        0.034902    -0.503019   \n",
       "ratings                  -0.424129  1.000000        0.191655     0.151153   \n",
       "num_of_ratings            0.034902  0.191655        1.000000    -0.260279   \n",
       "sales_price              -0.503019  0.151153       -0.260279     1.000000   \n",
       "discount_percent          0.257373 -0.118578        0.212442    -0.098640   \n",
       "sales                     0.025680  0.226075        0.949114    -0.247760   \n",
       "\n",
       "                  discount_percent     sales  \n",
       "battery_capacity          0.257373  0.025680  \n",
       "ratings                  -0.118578  0.226075  \n",
       "num_of_ratings            0.212442  0.949114  \n",
       "sales_price              -0.098640 -0.247760  \n",
       "discount_percent          1.000000  0.223471  \n",
       "sales                     0.223471  1.000000  "
      ]
     },
     "execution_count": 24,
     "metadata": {},
     "output_type": "execute_result"
    }
   ],
   "source": [
    "df_corr = df_q2.corr()\n",
    "df_corr"
   ]
  },
  {
   "cell_type": "code",
   "execution_count": 26,
   "id": "47ab4aef",
   "metadata": {
    "collapsed": true
   },
   "outputs": [
    {
     "data": {
      "text/plain": [
       "battery_capacity    0.257373\n",
       "ratings             0.226075\n",
       "num_of_ratings      0.949114\n",
       "sales_price         0.151153\n",
       "discount_percent    0.257373\n",
       "sales               0.949114\n",
       "dtype: float64"
      ]
     },
     "execution_count": 26,
     "metadata": {},
     "output_type": "execute_result"
    }
   ],
   "source": [
    "df_corr.replace(1, np.nan).max()"
   ]
  },
  {
   "cell_type": "code",
   "execution_count": 30,
   "id": "5b4aea0c",
   "metadata": {},
   "outputs": [
    {
     "data": {
      "text/html": [
       "<div>\n",
       "<style scoped>\n",
       "    .dataframe tbody tr th:only-of-type {\n",
       "        vertical-align: middle;\n",
       "    }\n",
       "\n",
       "    .dataframe tbody tr th {\n",
       "        vertical-align: top;\n",
       "    }\n",
       "\n",
       "    .dataframe thead th {\n",
       "        text-align: right;\n",
       "    }\n",
       "</style>\n",
       "<table border=\"1\" class=\"dataframe\">\n",
       "  <thead>\n",
       "    <tr style=\"text-align: right;\">\n",
       "      <th>variable</th>\n",
       "      <th>battery_capacity</th>\n",
       "      <th>discount_percent</th>\n",
       "      <th>num_of_ratings</th>\n",
       "      <th>ratings</th>\n",
       "      <th>sales</th>\n",
       "      <th>sales_price</th>\n",
       "    </tr>\n",
       "    <tr>\n",
       "      <th>index</th>\n",
       "      <th></th>\n",
       "      <th></th>\n",
       "      <th></th>\n",
       "      <th></th>\n",
       "      <th></th>\n",
       "      <th></th>\n",
       "    </tr>\n",
       "  </thead>\n",
       "  <tbody>\n",
       "    <tr>\n",
       "      <th>battery_capacity</th>\n",
       "      <td>NaN</td>\n",
       "      <td>0.257373</td>\n",
       "      <td>0.034902</td>\n",
       "      <td>-0.424129</td>\n",
       "      <td>0.025680</td>\n",
       "      <td>-0.503019</td>\n",
       "    </tr>\n",
       "    <tr>\n",
       "      <th>discount_percent</th>\n",
       "      <td>0.257373</td>\n",
       "      <td>NaN</td>\n",
       "      <td>0.212442</td>\n",
       "      <td>-0.118578</td>\n",
       "      <td>0.223471</td>\n",
       "      <td>-0.098640</td>\n",
       "    </tr>\n",
       "    <tr>\n",
       "      <th>num_of_ratings</th>\n",
       "      <td>0.034902</td>\n",
       "      <td>0.212442</td>\n",
       "      <td>NaN</td>\n",
       "      <td>0.191655</td>\n",
       "      <td>0.949114</td>\n",
       "      <td>-0.260279</td>\n",
       "    </tr>\n",
       "    <tr>\n",
       "      <th>ratings</th>\n",
       "      <td>-0.424129</td>\n",
       "      <td>-0.118578</td>\n",
       "      <td>0.191655</td>\n",
       "      <td>NaN</td>\n",
       "      <td>0.226075</td>\n",
       "      <td>0.151153</td>\n",
       "    </tr>\n",
       "    <tr>\n",
       "      <th>sales</th>\n",
       "      <td>0.025680</td>\n",
       "      <td>0.223471</td>\n",
       "      <td>0.949114</td>\n",
       "      <td>0.226075</td>\n",
       "      <td>NaN</td>\n",
       "      <td>-0.247760</td>\n",
       "    </tr>\n",
       "    <tr>\n",
       "      <th>sales_price</th>\n",
       "      <td>-0.503019</td>\n",
       "      <td>-0.098640</td>\n",
       "      <td>-0.260279</td>\n",
       "      <td>0.151153</td>\n",
       "      <td>-0.247760</td>\n",
       "      <td>NaN</td>\n",
       "    </tr>\n",
       "  </tbody>\n",
       "</table>\n",
       "</div>"
      ],
      "text/plain": [
       "variable          battery_capacity  discount_percent  num_of_ratings  \\\n",
       "index                                                                  \n",
       "battery_capacity               NaN          0.257373        0.034902   \n",
       "discount_percent          0.257373               NaN        0.212442   \n",
       "num_of_ratings            0.034902          0.212442             NaN   \n",
       "ratings                  -0.424129         -0.118578        0.191655   \n",
       "sales                     0.025680          0.223471        0.949114   \n",
       "sales_price              -0.503019         -0.098640       -0.260279   \n",
       "\n",
       "variable           ratings     sales  sales_price  \n",
       "index                                              \n",
       "battery_capacity -0.424129  0.025680    -0.503019  \n",
       "discount_percent -0.118578  0.223471    -0.098640  \n",
       "num_of_ratings    0.191655  0.949114    -0.260279  \n",
       "ratings                NaN  0.226075     0.151153  \n",
       "sales             0.226075       NaN    -0.247760  \n",
       "sales_price       0.151153 -0.247760          NaN  "
      ]
     },
     "execution_count": 30,
     "metadata": {},
     "output_type": "execute_result"
    }
   ],
   "source": [
    "df_corr_melt = df_corr.reset_index().melt(id_vars = \"index\")\n",
    "df_corr_melt.loc[df_corr_melt[\"index\"] != df_corr_melt[\"variable\"], ].pivot_table(index = \"index\",\n",
    "                                                                                  columns = \"variable\",\n",
    "                                                                                  values = \"value\")"
   ]
  },
  {
   "cell_type": "code",
   "execution_count": 31,
   "id": "bdc7a0dc",
   "metadata": {},
   "outputs": [
    {
     "name": "stdout",
     "output_type": "stream",
     "text": [
      "0.95\n"
     ]
    }
   ],
   "source": [
    "print(round(0.949114, 2))"
   ]
  },
  {
   "cell_type": "markdown",
   "id": "1f304861",
   "metadata": {},
   "source": [
    "### Q3."
   ]
  },
  {
   "cell_type": "code",
   "execution_count": 32,
   "id": "52519c39",
   "metadata": {},
   "outputs": [
    {
     "data": {
      "text/html": [
       "<div>\n",
       "<style scoped>\n",
       "    .dataframe tbody tr th:only-of-type {\n",
       "        vertical-align: middle;\n",
       "    }\n",
       "\n",
       "    .dataframe tbody tr th {\n",
       "        vertical-align: top;\n",
       "    }\n",
       "\n",
       "    .dataframe thead th {\n",
       "        text-align: right;\n",
       "    }\n",
       "</style>\n",
       "<table border=\"1\" class=\"dataframe\">\n",
       "  <thead>\n",
       "    <tr style=\"text-align: right;\">\n",
       "      <th></th>\n",
       "      <th>screen_size</th>\n",
       "      <th>ROM</th>\n",
       "      <th>RAM</th>\n",
       "      <th>num_rear_camera</th>\n",
       "      <th>num_front_camera</th>\n",
       "      <th>battery_capacity</th>\n",
       "      <th>ratings</th>\n",
       "      <th>num_of_ratings</th>\n",
       "      <th>sales_price</th>\n",
       "      <th>discount_percent</th>\n",
       "      <th>sales</th>\n",
       "    </tr>\n",
       "  </thead>\n",
       "  <tbody>\n",
       "    <tr>\n",
       "      <th>0</th>\n",
       "      <td>Very Small</td>\n",
       "      <td>64</td>\n",
       "      <td>2</td>\n",
       "      <td>1</td>\n",
       "      <td>1</td>\n",
       "      <td>1800</td>\n",
       "      <td>4.5</td>\n",
       "      <td>38645</td>\n",
       "      <td>32999</td>\n",
       "      <td>0.17</td>\n",
       "      <td>127.52</td>\n",
       "    </tr>\n",
       "    <tr>\n",
       "      <th>1</th>\n",
       "      <td>Small</td>\n",
       "      <td>64</td>\n",
       "      <td>4</td>\n",
       "      <td>2</td>\n",
       "      <td>1</td>\n",
       "      <td>2815</td>\n",
       "      <td>4.5</td>\n",
       "      <td>244</td>\n",
       "      <td>57149</td>\n",
       "      <td>0.04</td>\n",
       "      <td>1.39</td>\n",
       "    </tr>\n",
       "  </tbody>\n",
       "</table>\n",
       "</div>"
      ],
      "text/plain": [
       "  screen_size  ROM  RAM  num_rear_camera  num_front_camera  battery_capacity  \\\n",
       "0  Very Small   64    2                1                 1              1800   \n",
       "1       Small   64    4                2                 1              2815   \n",
       "\n",
       "   ratings  num_of_ratings  sales_price  discount_percent   sales  \n",
       "0      4.5           38645        32999              0.17  127.52  \n",
       "1      4.5             244        57149              0.04    1.39  "
      ]
     },
     "execution_count": 32,
     "metadata": {},
     "output_type": "execute_result"
    }
   ],
   "source": [
    "df.head(2)"
   ]
  },
  {
   "cell_type": "code",
   "execution_count": 39,
   "id": "a4bd6d97",
   "metadata": {},
   "outputs": [
    {
     "data": {
      "text/html": [
       "<div>\n",
       "<style scoped>\n",
       "    .dataframe tbody tr th:only-of-type {\n",
       "        vertical-align: middle;\n",
       "    }\n",
       "\n",
       "    .dataframe tbody tr th {\n",
       "        vertical-align: top;\n",
       "    }\n",
       "\n",
       "    .dataframe thead th {\n",
       "        text-align: right;\n",
       "    }\n",
       "</style>\n",
       "<table border=\"1\" class=\"dataframe\">\n",
       "  <thead>\n",
       "    <tr style=\"text-align: right;\">\n",
       "      <th></th>\n",
       "      <th>sales</th>\n",
       "      <th>ROM</th>\n",
       "      <th>RAM</th>\n",
       "      <th>num_rear_camera</th>\n",
       "      <th>num_front_camera</th>\n",
       "      <th>battery_capacity</th>\n",
       "      <th>ratings</th>\n",
       "      <th>num_of_ratings</th>\n",
       "      <th>sales_price</th>\n",
       "      <th>discount_percent</th>\n",
       "      <th>screen_size_Large</th>\n",
       "      <th>screen_size_Medium</th>\n",
       "      <th>screen_size_Small</th>\n",
       "      <th>screen_size_Very Large</th>\n",
       "      <th>screen_size_Very Small</th>\n",
       "    </tr>\n",
       "  </thead>\n",
       "  <tbody>\n",
       "    <tr>\n",
       "      <th>0</th>\n",
       "      <td>127.52</td>\n",
       "      <td>64</td>\n",
       "      <td>2</td>\n",
       "      <td>1</td>\n",
       "      <td>1</td>\n",
       "      <td>1800</td>\n",
       "      <td>4.5</td>\n",
       "      <td>38645</td>\n",
       "      <td>32999</td>\n",
       "      <td>0.17</td>\n",
       "      <td>0</td>\n",
       "      <td>0</td>\n",
       "      <td>0</td>\n",
       "      <td>0</td>\n",
       "      <td>1</td>\n",
       "    </tr>\n",
       "    <tr>\n",
       "      <th>1</th>\n",
       "      <td>1.39</td>\n",
       "      <td>64</td>\n",
       "      <td>4</td>\n",
       "      <td>2</td>\n",
       "      <td>1</td>\n",
       "      <td>2815</td>\n",
       "      <td>4.5</td>\n",
       "      <td>244</td>\n",
       "      <td>57149</td>\n",
       "      <td>0.04</td>\n",
       "      <td>0</td>\n",
       "      <td>0</td>\n",
       "      <td>1</td>\n",
       "      <td>0</td>\n",
       "      <td>0</td>\n",
       "    </tr>\n",
       "  </tbody>\n",
       "</table>\n",
       "</div>"
      ],
      "text/plain": [
       "    sales  ROM  RAM  num_rear_camera  num_front_camera  battery_capacity  \\\n",
       "0  127.52   64    2                1                 1              1800   \n",
       "1    1.39   64    4                2                 1              2815   \n",
       "\n",
       "   ratings  num_of_ratings  sales_price  discount_percent  screen_size_Large  \\\n",
       "0      4.5           38645        32999              0.17                  0   \n",
       "1      4.5             244        57149              0.04                  0   \n",
       "\n",
       "   screen_size_Medium  screen_size_Small  screen_size_Very Large  \\\n",
       "0                   0                  0                       0   \n",
       "1                   0                  1                       0   \n",
       "\n",
       "   screen_size_Very Small  \n",
       "0                       1  \n",
       "1                       0  "
      ]
     },
     "execution_count": 39,
     "metadata": {},
     "output_type": "execute_result"
    }
   ],
   "source": [
    "# df_dum = pd.get_dummies(df, columns = [\"screen_size\"]) # 시험버전\n",
    "df_dum = pd.get_dummies(df, columns = [\"screen_size\"], dtype = \"int\") # 2.0.0 이상 버전\n",
    "df_dum = df_dum.set_index(\"sales\").reset_index()\n",
    "df_dum.head(2)"
   ]
  },
  {
   "cell_type": "code",
   "execution_count": 38,
   "id": "5f39106f",
   "metadata": {},
   "outputs": [
    {
     "data": {
      "text/plain": [
       "Index(['ROM', 'RAM', 'num_rear_camera', 'num_front_camera', 'battery_capacity',\n",
       "       'ratings', 'num_of_ratings', 'sales_price', 'discount_percent', 'sales',\n",
       "       'screen_size_Large', 'screen_size_Medium', 'screen_size_Small',\n",
       "       'screen_size_Very_Large', 'screen_size_Very_Small'],\n",
       "      dtype='object')"
      ]
     },
     "execution_count": 38,
     "metadata": {},
     "output_type": "execute_result"
    }
   ],
   "source": [
    "df_dum.columns.str.replace(\" \", \"_\")"
   ]
  },
  {
   "cell_type": "markdown",
   "id": "1394aebb",
   "metadata": {},
   "source": [
    "`pd.get_dummies()`는 다른 메서드/함수/클래스와 다르게 \"columns\" 인자에 단일 값을 할당하는 경우에도 반드시 리스트 객체를 사용하여 할당해야 한다. 단순 문자열을 할당할 경우 에러가 난다.\n",
    "\n",
    "그리고 원핫인코딩을 실시할 때 변수명에 띄어쓰기가 있을 수 있는데 `statsmodels` 라이브러리 기반 모델링을 하면서 formula 를 사용하는 경우 변수명에 띄어쓰기를 제거하지 않은 채로 formula를 작성하면 반드시 에러가 발생함. 그리고 이 이슈는 이전 시험에서 응시자가 어려움을 겪은 사례가 있음.  \n",
    "※ 다음의 코드 결과에서는 \"screen_size_Very Large\""
   ]
  },
  {
   "cell_type": "code",
   "execution_count": 40,
   "id": "c8862c68",
   "metadata": {},
   "outputs": [
    {
     "data": {
      "text/plain": [
       "(430, 15)"
      ]
     },
     "execution_count": 40,
     "metadata": {},
     "output_type": "execute_result"
    }
   ],
   "source": [
    "df_dum.shape"
   ]
  },
  {
   "cell_type": "code",
   "execution_count": 41,
   "id": "8a1f1607",
   "metadata": {},
   "outputs": [
    {
     "data": {
      "text/plain": [
       "(344, 86)"
      ]
     },
     "execution_count": 41,
     "metadata": {},
     "output_type": "execute_result"
    }
   ],
   "source": [
    "df_train, df_test = train_test_split(df_dum, train_size = 0.8, random_state = 123)\n",
    "len(df_train), len(df_test)"
   ]
  },
  {
   "cell_type": "code",
   "execution_count": null,
   "id": "b831c520",
   "metadata": {},
   "outputs": [],
   "source": [
    "model_nor = MinMaxScaler().fit(df_train)\n",
    "arr_train_nor = model_nor.transform(df_train)\n",
    "arr_test_nor  = model_nor.transform(df_test)"
   ]
  },
  {
   "cell_type": "code",
   "execution_count": 43,
   "id": "95c94953",
   "metadata": {},
   "outputs": [
    {
     "data": {
      "text/plain": [
       "array([[0.00394753, 0.04761905, 0.18181818, 0.33333333, 0.        ,\n",
       "        0.42307692, 0.625     , 0.00396262, 0.02607261, 0.09302326,\n",
       "        0.        , 0.        , 1.        , 0.        , 0.        ]])"
      ]
     },
     "execution_count": 43,
     "metadata": {},
     "output_type": "execute_result"
    }
   ],
   "source": [
    "arr_train_nor[:1, ]"
   ]
  },
  {
   "cell_type": "code",
   "execution_count": 48,
   "id": "5c6ad945",
   "metadata": {},
   "outputs": [
    {
     "data": {
      "text/plain": [
       "0.08186677375964535"
      ]
     },
     "execution_count": 48,
     "metadata": {},
     "output_type": "execute_result"
    }
   ],
   "source": [
    "ls_k = [3, 5, 7, 9, 11]\n",
    "k = ls_k[0]\n",
    "\n",
    "model_knn = KNeighborsRegressor(n_neighbors = k)\n",
    "model_knn.fit(X = arr_train_nor[:, 1:],\n",
    "              y = arr_train_nor[:, 0])\n",
    "pred = model_knn.predict(arr_test_nor[:, 1:])\n",
    "\n",
    "val_rmse = mean_squared_error(y_true = arr_test_nor[:, 0], y_pred = pred) ** 0.5\n",
    "val_rmse"
   ]
  },
  {
   "cell_type": "code",
   "execution_count": 49,
   "id": "d5d374d0",
   "metadata": {},
   "outputs": [],
   "source": [
    "ls_k = [3, 5, 7, 9, 11]\n",
    "k = ls_k[0]\n",
    "\n",
    "ls_rmse = []\n",
    "for k in ls_k:\n",
    "    model_knn = KNeighborsRegressor(n_neighbors = k)\n",
    "    model_knn.fit(X = arr_train_nor[:, 1:],\n",
    "                  y = arr_train_nor[:, 0])\n",
    "    pred = model_knn.predict(arr_test_nor[:, 1:])\n",
    "\n",
    "    val_rmse = mean_squared_error(y_true = arr_test_nor[:, 0], y_pred = pred) ** 0.5\n",
    "    ls_rmse = ls_rmse + [val_rmse]"
   ]
  },
  {
   "cell_type": "code",
   "execution_count": 51,
   "id": "dd4c774c",
   "metadata": {
    "collapsed": true
   },
   "outputs": [
    {
     "data": {
      "text/plain": [
       "3     0.081867\n",
       "5     0.098791\n",
       "7     0.107670\n",
       "9     0.112321\n",
       "11    0.113690\n",
       "dtype: float64"
      ]
     },
     "execution_count": 51,
     "metadata": {},
     "output_type": "execute_result"
    }
   ],
   "source": [
    "ser_rmse = pd.Series(ls_rmse, index = ls_k)\n",
    "ser_rmse"
   ]
  },
  {
   "cell_type": "code",
   "execution_count": 53,
   "id": "850f5758",
   "metadata": {},
   "outputs": [
    {
     "data": {
      "text/plain": [
       "3"
      ]
     },
     "execution_count": 53,
     "metadata": {},
     "output_type": "execute_result"
    }
   ],
   "source": [
    "best_k = ser_rmse.idxmin()\n",
    "best_k"
   ]
  },
  {
   "cell_type": "markdown",
   "id": "cc8274fa",
   "metadata": {},
   "source": [
    "### Q3. 추가 지시사항\n",
    "다음은 저번달에 신규 출시된 경쟁사의 스마트폰 정보이다. 해당 스마트폰의 판매지수는 얼마로 예상되는가?  \n",
    "※ 정규화 되지 않은 값으로 반올림하여 소수점 첫째 자리까지 출력하시오  \n",
    "※ KNN 모델을 사용하며 이웃 개수는 직전에 최적이라고 판단한 k값을 사용하시오.  \n",
    "※ 정답은 반올림하여 소수 둘째 자리까지 출력하시오.  \n",
    "(정답 예시: 0.12)\n",
    "* ROM: 256\n",
    "* RAM: 6\n",
    "* num_rear_camera: 4\n",
    "* num_front_camera: 1\n",
    "* battery_capacity: 4000\n",
    "* ratings: 4.3\n",
    "* num_of_ratings: 25000\n",
    "* sales_price: 85000\n",
    "* discount_percent: 0.05\n",
    "* screen_size: \"Large\"\n"
   ]
  },
  {
   "cell_type": "markdown",
   "id": "d550b9a3",
   "metadata": {},
   "source": [
    "https://datadoctorblog.com/2023/07/30/Py-ML-One-Hot-Encoding/#sklearn-1"
   ]
  },
  {
   "cell_type": "code",
   "execution_count": 58,
   "id": "71d96a1d",
   "metadata": {},
   "outputs": [],
   "source": [
    "# df_t1 = pd.DataFrame(dict(ROM = 256, ~~~))\n",
    "df_t1 = df_test.head(1).reset_index(drop = True)\n",
    "df_t1[\"RAM\"] = 6\n",
    "df_t1[\"num_rear_camera\"] = 4\n",
    "df_t1[\"battery_capacity\"] = 4000\n",
    "df_t1[\"ratings\"] = 4.3\n",
    "df_t1[\"num_of_ratings\"] = 25000\n",
    "df_t1[\"sales_price\"] = 85000\n",
    "df_t1[\"discount_percent\"] = 0.05\n",
    "df_t1[\"screen_size_Large\"] = 1\n",
    "df_t1[\"screen_size_Medium\"] = 0"
   ]
  },
  {
   "cell_type": "code",
   "execution_count": 59,
   "id": "9bc357bb",
   "metadata": {},
   "outputs": [
    {
     "data": {
      "text/html": [
       "<div>\n",
       "<style scoped>\n",
       "    .dataframe tbody tr th:only-of-type {\n",
       "        vertical-align: middle;\n",
       "    }\n",
       "\n",
       "    .dataframe tbody tr th {\n",
       "        vertical-align: top;\n",
       "    }\n",
       "\n",
       "    .dataframe thead th {\n",
       "        text-align: right;\n",
       "    }\n",
       "</style>\n",
       "<table border=\"1\" class=\"dataframe\">\n",
       "  <thead>\n",
       "    <tr style=\"text-align: right;\">\n",
       "      <th></th>\n",
       "      <th>sales</th>\n",
       "      <th>ROM</th>\n",
       "      <th>RAM</th>\n",
       "      <th>num_rear_camera</th>\n",
       "      <th>num_front_camera</th>\n",
       "      <th>battery_capacity</th>\n",
       "      <th>ratings</th>\n",
       "      <th>num_of_ratings</th>\n",
       "      <th>sales_price</th>\n",
       "      <th>discount_percent</th>\n",
       "      <th>screen_size_Large</th>\n",
       "      <th>screen_size_Medium</th>\n",
       "      <th>screen_size_Small</th>\n",
       "      <th>screen_size_Very Large</th>\n",
       "      <th>screen_size_Very Small</th>\n",
       "    </tr>\n",
       "  </thead>\n",
       "  <tbody>\n",
       "    <tr>\n",
       "      <th>0</th>\n",
       "      <td>5.9</td>\n",
       "      <td>256</td>\n",
       "      <td>6</td>\n",
       "      <td>4</td>\n",
       "      <td>1</td>\n",
       "      <td>4000</td>\n",
       "      <td>4.3</td>\n",
       "      <td>25000</td>\n",
       "      <td>85000</td>\n",
       "      <td>0.05</td>\n",
       "      <td>1</td>\n",
       "      <td>0</td>\n",
       "      <td>0</td>\n",
       "      <td>0</td>\n",
       "      <td>0</td>\n",
       "    </tr>\n",
       "  </tbody>\n",
       "</table>\n",
       "</div>"
      ],
      "text/plain": [
       "   sales  ROM  RAM  num_rear_camera  num_front_camera  battery_capacity  \\\n",
       "0    5.9  256    6                4                 1              4000   \n",
       "\n",
       "   ratings  num_of_ratings  sales_price  discount_percent  screen_size_Large  \\\n",
       "0      4.3           25000        85000              0.05                  1   \n",
       "\n",
       "   screen_size_Medium  screen_size_Small  screen_size_Very Large  \\\n",
       "0                   0                  0                       0   \n",
       "\n",
       "   screen_size_Very Small  \n",
       "0                       0  "
      ]
     },
     "execution_count": 59,
     "metadata": {},
     "output_type": "execute_result"
    }
   ],
   "source": [
    "df_t1"
   ]
  },
  {
   "cell_type": "code",
   "execution_count": 64,
   "id": "a5cc34d8",
   "metadata": {},
   "outputs": [
    {
     "data": {
      "text/plain": [
       "array([[0.0119438 , 0.49206349, 0.45454545, 1.        , 0.        ,\n",
       "        0.42307692, 0.625     , 0.05308122, 0.51815842, 0.09302326,\n",
       "        1.        , 0.        , 0.        , 0.        , 0.        ]])"
      ]
     },
     "execution_count": 64,
     "metadata": {},
     "output_type": "execute_result"
    }
   ],
   "source": [
    "arr_t1_nor = model_nor.transform(df_t1)\n",
    "arr_t1_nor"
   ]
  },
  {
   "cell_type": "code",
   "execution_count": 54,
   "id": "0ca8934c",
   "metadata": {},
   "outputs": [
    {
     "data": {
      "text/plain": [
       "<bound method KNeighborsMixin.kneighbors of KNeighborsRegressor(n_neighbors=11)>"
      ]
     },
     "execution_count": 54,
     "metadata": {},
     "output_type": "execute_result"
    }
   ],
   "source": [
    "model_knn.kneighbors"
   ]
  },
  {
   "cell_type": "code",
   "execution_count": 65,
   "id": "20d78fa1",
   "metadata": {},
   "outputs": [
    {
     "data": {
      "text/plain": [
       "array([0.00132259])"
      ]
     },
     "execution_count": 65,
     "metadata": {},
     "output_type": "execute_result"
    }
   ],
   "source": [
    "model_knn_b = KNeighborsRegressor(n_neighbors = best_k)\n",
    "model_knn_b.fit(X = arr_train_nor[:, 1:],\n",
    "                y = arr_train_nor[:, 0])\n",
    "pred_t1 = model_knn_b.predict(arr_t1_nor[:, 1:])\n",
    "pred_t1"
   ]
  },
  {
   "cell_type": "code",
   "execution_count": 69,
   "id": "57521cbc",
   "metadata": {},
   "outputs": [
    {
     "data": {
      "text/plain": [
       "array([[0.00132259, 0.49206349, 0.45454545, 1.        , 0.        ,\n",
       "        0.42307692, 0.625     , 0.05308122, 0.51815842, 0.09302326,\n",
       "        1.        , 0.        , 0.        , 0.        , 0.        ]])"
      ]
     },
     "execution_count": 69,
     "metadata": {},
     "output_type": "execute_result"
    }
   ],
   "source": [
    "# model_nor.inverse_transform(pred_t1) # Error!!!\n",
    "arr_t1_nor[0, 0] = pred_t1\n",
    "arr_t1_nor"
   ]
  },
  {
   "cell_type": "code",
   "execution_count": 70,
   "id": "2230d103",
   "metadata": {},
   "outputs": [
    {
     "data": {
      "text/plain": [
       "array([[6.53333333e-01, 2.56000000e+02, 6.00000000e+00, 4.00000000e+00,\n",
       "        1.00000000e+00, 4.00000000e+03, 4.30000000e+00, 2.50000000e+04,\n",
       "        8.50000000e+04, 5.00000000e-02, 1.00000000e+00, 0.00000000e+00,\n",
       "        0.00000000e+00, 0.00000000e+00, 0.00000000e+00]])"
      ]
     },
     "execution_count": 70,
     "metadata": {},
     "output_type": "execute_result"
    }
   ],
   "source": [
    "arr_t1_inv = model_nor.inverse_transform(arr_t1_nor)\n",
    "arr_t1_inv"
   ]
  },
  {
   "cell_type": "code",
   "execution_count": 71,
   "id": "631301ba",
   "metadata": {},
   "outputs": [
    {
     "data": {
      "text/html": [
       "<div>\n",
       "<style scoped>\n",
       "    .dataframe tbody tr th:only-of-type {\n",
       "        vertical-align: middle;\n",
       "    }\n",
       "\n",
       "    .dataframe tbody tr th {\n",
       "        vertical-align: top;\n",
       "    }\n",
       "\n",
       "    .dataframe thead th {\n",
       "        text-align: right;\n",
       "    }\n",
       "</style>\n",
       "<table border=\"1\" class=\"dataframe\">\n",
       "  <thead>\n",
       "    <tr style=\"text-align: right;\">\n",
       "      <th></th>\n",
       "      <th>sales</th>\n",
       "      <th>ROM</th>\n",
       "      <th>RAM</th>\n",
       "      <th>num_rear_camera</th>\n",
       "      <th>num_front_camera</th>\n",
       "      <th>battery_capacity</th>\n",
       "      <th>ratings</th>\n",
       "      <th>num_of_ratings</th>\n",
       "      <th>sales_price</th>\n",
       "      <th>discount_percent</th>\n",
       "      <th>screen_size_Large</th>\n",
       "      <th>screen_size_Medium</th>\n",
       "      <th>screen_size_Small</th>\n",
       "      <th>screen_size_Very Large</th>\n",
       "      <th>screen_size_Very Small</th>\n",
       "    </tr>\n",
       "  </thead>\n",
       "  <tbody>\n",
       "    <tr>\n",
       "      <th>0</th>\n",
       "      <td>0.653333</td>\n",
       "      <td>256.0</td>\n",
       "      <td>6.0</td>\n",
       "      <td>4.0</td>\n",
       "      <td>1.0</td>\n",
       "      <td>4000.0</td>\n",
       "      <td>4.3</td>\n",
       "      <td>25000.0</td>\n",
       "      <td>85000.0</td>\n",
       "      <td>0.05</td>\n",
       "      <td>1.0</td>\n",
       "      <td>0.0</td>\n",
       "      <td>0.0</td>\n",
       "      <td>0.0</td>\n",
       "      <td>0.0</td>\n",
       "    </tr>\n",
       "  </tbody>\n",
       "</table>\n",
       "</div>"
      ],
      "text/plain": [
       "      sales    ROM  RAM  num_rear_camera  num_front_camera  battery_capacity  \\\n",
       "0  0.653333  256.0  6.0              4.0               1.0            4000.0   \n",
       "\n",
       "   ratings  num_of_ratings  sales_price  discount_percent  screen_size_Large  \\\n",
       "0      4.3         25000.0      85000.0              0.05                1.0   \n",
       "\n",
       "   screen_size_Medium  screen_size_Small  screen_size_Very Large  \\\n",
       "0                 0.0                0.0                     0.0   \n",
       "\n",
       "   screen_size_Very Small  \n",
       "0                     0.0  "
      ]
     },
     "execution_count": 71,
     "metadata": {},
     "output_type": "execute_result"
    }
   ],
   "source": [
    "df_t1_inv = pd.DataFrame(arr_t1_inv, columns = df_t1.columns)\n",
    "df_t1_inv"
   ]
  },
  {
   "cell_type": "code",
   "execution_count": 76,
   "id": "346a0336",
   "metadata": {},
   "outputs": [
    {
     "data": {
      "text/plain": [
       "0.65"
      ]
     },
     "execution_count": 76,
     "metadata": {},
     "output_type": "execute_result"
    }
   ],
   "source": [
    "round(df_t1_inv[\"sales\"][0], 2)"
   ]
  }
 ],
 "metadata": {
  "kernelspec": {
   "display_name": "Python 3 (ipykernel)",
   "language": "python",
   "name": "python3"
  },
  "language_info": {
   "codemirror_mode": {
    "name": "ipython",
    "version": 3
   },
   "file_extension": ".py",
   "mimetype": "text/x-python",
   "name": "python",
   "nbconvert_exporter": "python",
   "pygments_lexer": "ipython3",
   "version": "3.9.12"
  }
 },
 "nbformat": 4,
 "nbformat_minor": 5
}
