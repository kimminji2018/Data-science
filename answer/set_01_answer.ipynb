{
 "cells": [
  {
   "cell_type": "code",
   "execution_count": 50,
   "id": "45527da8",
   "metadata": {},
   "outputs": [],
   "source": [
    "import pandas as pd\n",
    "import numpy as np\n",
    "\n",
    "from sklearn.ensemble import RandomForestRegressor"
   ]
  },
  {
   "cell_type": "code",
   "execution_count": 2,
   "id": "319c03ba",
   "metadata": {},
   "outputs": [
    {
     "data": {
      "text/plain": [
       "(666, 11)"
      ]
     },
     "execution_count": 2,
     "metadata": {},
     "output_type": "execute_result"
    }
   ],
   "source": [
    "df = pd.read_csv(\"TV.csv\")\n",
    "df.shape"
   ]
  },
  {
   "cell_type": "markdown",
   "id": "064fcab9",
   "metadata": {},
   "source": [
    "풀이시간에 질문은 공개 채팅으로~"
   ]
  },
  {
   "cell_type": "markdown",
   "id": "413ace58",
   "metadata": {},
   "source": [
    "### Q1."
   ]
  },
  {
   "cell_type": "code",
   "execution_count": 3,
   "id": "dad42c74",
   "metadata": {
    "collapsed": true
   },
   "outputs": [
    {
     "data": {
      "text/html": [
       "<div>\n",
       "<style scoped>\n",
       "    .dataframe tbody tr th:only-of-type {\n",
       "        vertical-align: middle;\n",
       "    }\n",
       "\n",
       "    .dataframe tbody tr th {\n",
       "        vertical-align: top;\n",
       "    }\n",
       "\n",
       "    .dataframe thead th {\n",
       "        text-align: right;\n",
       "    }\n",
       "</style>\n",
       "<table border=\"1\" class=\"dataframe\">\n",
       "  <thead>\n",
       "    <tr style=\"text-align: right;\">\n",
       "      <th></th>\n",
       "      <th>Frequency</th>\n",
       "      <th>Picture_quality</th>\n",
       "      <th>Speaker</th>\n",
       "    </tr>\n",
       "  </thead>\n",
       "  <tbody>\n",
       "    <tr>\n",
       "      <th>0</th>\n",
       "      <td>1 Year Warranty</td>\n",
       "      <td>60 Hz Refresh Rate</td>\n",
       "      <td>2 x HDMI | 2 x USB</td>\n",
       "    </tr>\n",
       "    <tr>\n",
       "      <th>1</th>\n",
       "      <td>60 Hz Refresh Rate</td>\n",
       "      <td>HD Ready 1366 x 768 Pixels</td>\n",
       "      <td>20 W Speaker Output</td>\n",
       "    </tr>\n",
       "  </tbody>\n",
       "</table>\n",
       "</div>"
      ],
      "text/plain": [
       "            Frequency             Picture_quality              Speaker\n",
       "0     1 Year Warranty          60 Hz Refresh Rate   2 x HDMI | 2 x USB\n",
       "1  60 Hz Refresh Rate  HD Ready 1366 x 768 Pixels  20 W Speaker Output"
      ]
     },
     "execution_count": 3,
     "metadata": {},
     "output_type": "execute_result"
    }
   ],
   "source": [
    "df_q1 = df[[\"Frequency\", \"Picture_quality\", \"Speaker\"]].copy()\n",
    "df_q1.head(2)"
   ]
  },
  {
   "cell_type": "code",
   "execution_count": 6,
   "id": "880ec6fc",
   "metadata": {},
   "outputs": [
    {
     "data": {
      "text/plain": [
       "509"
      ]
     },
     "execution_count": 6,
     "metadata": {},
     "output_type": "execute_result"
    }
   ],
   "source": [
    "cnt_1 = sum(df_q1[\"Frequency\"] == \"60 Hz Refresh Rate\")\n",
    "cnt_2 = sum(df_q1[\"Picture_quality\"] == \"60 Hz Refresh Rate\")\n",
    "cnt_3 = sum(df_q1[\"Speaker\"] == \"60 Hz Refresh Rate\")\n",
    "cnt_1 + cnt_2 + cnt_3"
   ]
  },
  {
   "cell_type": "code",
   "execution_count": 23,
   "id": "481e6801",
   "metadata": {},
   "outputs": [
    {
     "data": {
      "text/plain": [
       "0                                    60 Hz Refresh Rate\n",
       "15                                  120 Hz Refresh Rate\n",
       "16                                  100 Hz Refresh Rate\n",
       "18                                  200 Hz Refresh Rate\n",
       "20                                   58 Hz Refresh Rate\n",
       "22                                   50 Hz Refresh Rate\n",
       "48    60 Hz Refresh Rate for a blur-free picture qua...\n",
       "61                                  300 Hz Refresh Rate\n",
       "dtype: object"
      ]
     },
     "execution_count": 23,
     "metadata": {},
     "output_type": "execute_result"
    }
   ],
   "source": [
    "# ser_u = pd.Series(df_q1[\"Frequency\"].unique())\n",
    "ser_u = pd.Series(df_q1[\"Picture_quality\"].unique())\n",
    "# ser_u = pd.Series(df_q1[\"Speaker\"].unique())\n",
    "# ser_u[ser_u.str.contains(\"Hz\")]\n",
    "# ser_u[ser_u.str.contains(\"[0-9]{2,3} Hz\")]\n",
    "ser_u[ser_u.str.contains(\"^[0-9]{2,3} Hz|[^0-9][0-9]{2,3} Hz\")]"
   ]
  },
  {
   "cell_type": "code",
   "execution_count": 16,
   "id": "4816f98c",
   "metadata": {},
   "outputs": [
    {
     "data": {
      "text/plain": [
       "0    1\n",
       "1    0\n",
       "dtype: int32"
      ]
     },
     "execution_count": 16,
     "metadata": {},
     "output_type": "execute_result"
    }
   ],
   "source": [
    "# pd.Series([True, False]).astype(\"int\")\n",
    "pd.Series([True, False]) + 0"
   ]
  },
  {
   "cell_type": "code",
   "execution_count": 14,
   "id": "2ef64d42",
   "metadata": {},
   "outputs": [],
   "source": [
    "df_q1[\"hz_1\"] = df_q1[\"Frequency\"].str.contains(\"Hz\") + 0\n",
    "df_q1[\"hz_2\"] = df_q1[\"Picture_quality\"].str.contains(\"Hz\") + 0\n",
    "df_q1[\"hz_3\"] = df_q1[\"Speaker\"].str.contains(\"Hz\") + 0\n",
    "df_q1[\"hz_cnt\"] = df_q1[\"hz_1\"] + df_q1[\"hz_2\"] + df_q1[\"hz_3\"]"
   ]
  },
  {
   "cell_type": "code",
   "execution_count": 15,
   "id": "f616a14f",
   "metadata": {},
   "outputs": [
    {
     "data": {
      "text/html": [
       "<div>\n",
       "<style scoped>\n",
       "    .dataframe tbody tr th:only-of-type {\n",
       "        vertical-align: middle;\n",
       "    }\n",
       "\n",
       "    .dataframe tbody tr th {\n",
       "        vertical-align: top;\n",
       "    }\n",
       "\n",
       "    .dataframe thead th {\n",
       "        text-align: right;\n",
       "    }\n",
       "</style>\n",
       "<table border=\"1\" class=\"dataframe\">\n",
       "  <thead>\n",
       "    <tr style=\"text-align: right;\">\n",
       "      <th></th>\n",
       "      <th>Frequency</th>\n",
       "      <th>Picture_quality</th>\n",
       "      <th>Speaker</th>\n",
       "      <th>hz_1</th>\n",
       "      <th>hz_2</th>\n",
       "      <th>hz_3</th>\n",
       "      <th>hz_cnt</th>\n",
       "    </tr>\n",
       "  </thead>\n",
       "  <tbody>\n",
       "    <tr>\n",
       "      <th>0</th>\n",
       "      <td>1 Year Warranty</td>\n",
       "      <td>60 Hz Refresh Rate</td>\n",
       "      <td>2 x HDMI | 2 x USB</td>\n",
       "      <td>0</td>\n",
       "      <td>1</td>\n",
       "      <td>0</td>\n",
       "      <td>1</td>\n",
       "    </tr>\n",
       "    <tr>\n",
       "      <th>1</th>\n",
       "      <td>60 Hz Refresh Rate</td>\n",
       "      <td>HD Ready 1366 x 768 Pixels</td>\n",
       "      <td>20 W Speaker Output</td>\n",
       "      <td>1</td>\n",
       "      <td>0</td>\n",
       "      <td>0</td>\n",
       "      <td>1</td>\n",
       "    </tr>\n",
       "  </tbody>\n",
       "</table>\n",
       "</div>"
      ],
      "text/plain": [
       "            Frequency             Picture_quality              Speaker  hz_1  \\\n",
       "0     1 Year Warranty          60 Hz Refresh Rate   2 x HDMI | 2 x USB     0   \n",
       "1  60 Hz Refresh Rate  HD Ready 1366 x 768 Pixels  20 W Speaker Output     1   \n",
       "\n",
       "   hz_2  hz_3  hz_cnt  \n",
       "0     1     0       1  \n",
       "1     0     0       1  "
      ]
     },
     "execution_count": 15,
     "metadata": {},
     "output_type": "execute_result"
    }
   ],
   "source": [
    "df_q1.head(2)"
   ]
  },
  {
   "cell_type": "code",
   "execution_count": 17,
   "id": "024a7248",
   "metadata": {},
   "outputs": [
    {
     "data": {
      "text/plain": [
       "hz_cnt\n",
       "1    662\n",
       "0      4\n",
       "Name: count, dtype: int64"
      ]
     },
     "execution_count": 17,
     "metadata": {},
     "output_type": "execute_result"
    }
   ],
   "source": [
    "df_q1[\"hz_cnt\"].value_counts()"
   ]
  },
  {
   "cell_type": "code",
   "execution_count": 19,
   "id": "84b002d8",
   "metadata": {},
   "outputs": [
    {
     "data": {
      "text/plain": [
       "(666, 662)"
      ]
     },
     "execution_count": 19,
     "metadata": {},
     "output_type": "execute_result"
    }
   ],
   "source": [
    "df_q1_sub = df_q1.loc[df_q1[\"hz_cnt\"] > 0, ]\n",
    "len(df_q1), len(df_q1_sub)"
   ]
  },
  {
   "cell_type": "code",
   "execution_count": 22,
   "id": "d601cca6",
   "metadata": {},
   "outputs": [
    {
     "data": {
      "text/plain": [
       "1    510\n",
       "0    152\n",
       "Name: count, dtype: int64"
      ]
     },
     "execution_count": 22,
     "metadata": {},
     "output_type": "execute_result"
    }
   ],
   "source": [
    "df_q1_sub.iloc[:, :3].apply(lambda x: x.str.contains(\"60 Hz\").sum(), \n",
    "                            axis = 1).value_counts()"
   ]
  },
  {
   "cell_type": "code",
   "execution_count": 24,
   "id": "d490a747",
   "metadata": {},
   "outputs": [
    {
     "data": {
      "text/plain": [
       "1    510\n",
       "0    152\n",
       "Name: count, dtype: int64"
      ]
     },
     "execution_count": 24,
     "metadata": {},
     "output_type": "execute_result"
    }
   ],
   "source": [
    "df_q1_sub.iloc[:, :3].apply(lambda x: x.str.contains(\"^60 Hz|[^0-9]60 Hz\").sum(), \n",
    "                            axis = 1).value_counts()"
   ]
  },
  {
   "cell_type": "markdown",
   "id": "0de44f31",
   "metadata": {},
   "source": [
    "### Q2."
   ]
  },
  {
   "cell_type": "code",
   "execution_count": 25,
   "id": "dc4bc15e",
   "metadata": {
    "collapsed": true
   },
   "outputs": [
    {
     "data": {
      "text/html": [
       "<div>\n",
       "<style scoped>\n",
       "    .dataframe tbody tr th:only-of-type {\n",
       "        vertical-align: middle;\n",
       "    }\n",
       "\n",
       "    .dataframe tbody tr th {\n",
       "        vertical-align: top;\n",
       "    }\n",
       "\n",
       "    .dataframe thead th {\n",
       "        text-align: right;\n",
       "    }\n",
       "</style>\n",
       "<table border=\"1\" class=\"dataframe\">\n",
       "  <thead>\n",
       "    <tr style=\"text-align: right;\">\n",
       "      <th></th>\n",
       "      <th>Stars</th>\n",
       "      <th>Operating_system</th>\n",
       "      <th>channel</th>\n",
       "      <th>Picture_quality</th>\n",
       "    </tr>\n",
       "  </thead>\n",
       "  <tbody>\n",
       "    <tr>\n",
       "      <th>0</th>\n",
       "      <td>4.2</td>\n",
       "      <td>20 Speaker Output</td>\n",
       "      <td>HD Ready 1366 x 768 Pixels</td>\n",
       "      <td>60 Hz Refresh Rate</td>\n",
       "    </tr>\n",
       "    <tr>\n",
       "      <th>1</th>\n",
       "      <td>3.8</td>\n",
       "      <td>Operating System: Android Based</td>\n",
       "      <td>Netflix|Disney+Hotstar|Youtube</td>\n",
       "      <td>HD Ready 1366 x 768 Pixels</td>\n",
       "    </tr>\n",
       "  </tbody>\n",
       "</table>\n",
       "</div>"
      ],
      "text/plain": [
       "   Stars                 Operating_system                         channel  \\\n",
       "0    4.2                20 Speaker Output      HD Ready 1366 x 768 Pixels   \n",
       "1    3.8  Operating System: Android Based  Netflix|Disney+Hotstar|Youtube   \n",
       "\n",
       "              Picture_quality  \n",
       "0          60 Hz Refresh Rate  \n",
       "1  HD Ready 1366 x 768 Pixels  "
      ]
     },
     "execution_count": 25,
     "metadata": {},
     "output_type": "execute_result"
    }
   ],
   "source": [
    "df_q2 = df[[\"Stars\", \"Operating_system\", \"channel\", \"Picture_quality\"]].copy()\n",
    "df_q2.head(2)"
   ]
  },
  {
   "cell_type": "code",
   "execution_count": null,
   "id": "326d9e27",
   "metadata": {},
   "outputs": [],
   "source": [
    "# ser_u = pd.Series(df_q2[\"Operating_system\"].unique())\n",
    "# ser_u = pd.Series(df_q2[\"channel\"].unique())\n",
    "ser_u = pd.Series(df_q2[\"Picture_quality\"].unique())\n",
    "ser_u[ser_u.str.contains(\"4K|8K\")]"
   ]
  },
  {
   "cell_type": "code",
   "execution_count": 32,
   "id": "404330c1",
   "metadata": {},
   "outputs": [],
   "source": [
    "df_q2[\"cnt_4k\"] = df_q2.iloc[:, 1:4].apply(lambda x: x.str.contains(\"4K\").sum(), axis = 1)\n",
    "df_q2[\"cnt_8k\"] = df_q2.iloc[:, 1:4].apply(lambda x: x.str.contains(\"8K\").sum(), axis = 1)"
   ]
  },
  {
   "cell_type": "code",
   "execution_count": 34,
   "id": "7e5fd604",
   "metadata": {
    "collapsed": true
   },
   "outputs": [
    {
     "data": {
      "text/html": [
       "<div>\n",
       "<style scoped>\n",
       "    .dataframe tbody tr th:only-of-type {\n",
       "        vertical-align: middle;\n",
       "    }\n",
       "\n",
       "    .dataframe tbody tr th {\n",
       "        vertical-align: top;\n",
       "    }\n",
       "\n",
       "    .dataframe thead th {\n",
       "        text-align: right;\n",
       "    }\n",
       "</style>\n",
       "<table border=\"1\" class=\"dataframe\">\n",
       "  <thead>\n",
       "    <tr style=\"text-align: right;\">\n",
       "      <th></th>\n",
       "      <th>Stars</th>\n",
       "      <th>Operating_system</th>\n",
       "      <th>channel</th>\n",
       "      <th>Picture_quality</th>\n",
       "      <th>cnt_4k</th>\n",
       "      <th>cnt_8k</th>\n",
       "    </tr>\n",
       "  </thead>\n",
       "  <tbody>\n",
       "    <tr>\n",
       "      <th>663</th>\n",
       "      <td>0.0</td>\n",
       "      <td>20 Speaker Output</td>\n",
       "      <td>HD Ready 1366 x 786 Pixels</td>\n",
       "      <td>60 Hz Refresh Rate</td>\n",
       "      <td>0</td>\n",
       "      <td>0</td>\n",
       "    </tr>\n",
       "    <tr>\n",
       "      <th>664</th>\n",
       "      <td>0.0</td>\n",
       "      <td>Full HD 1920 x 1080 Pixels</td>\n",
       "      <td>Netflix|Prime Video|Apple TV|Disney+Hotstar|Yo...</td>\n",
       "      <td>16 Speaker Output</td>\n",
       "      <td>0</td>\n",
       "      <td>0</td>\n",
       "    </tr>\n",
       "    <tr>\n",
       "      <th>665</th>\n",
       "      <td>4.4</td>\n",
       "      <td>10W + 10W Speaker Output</td>\n",
       "      <td>Ultra HD (4K) 3840 x 2160 pixels Pixels</td>\n",
       "      <td>50 Hz Refresh Rate</td>\n",
       "      <td>1</td>\n",
       "      <td>0</td>\n",
       "    </tr>\n",
       "  </tbody>\n",
       "</table>\n",
       "</div>"
      ],
      "text/plain": [
       "     Stars            Operating_system  \\\n",
       "663    0.0           20 Speaker Output   \n",
       "664    0.0  Full HD 1920 x 1080 Pixels   \n",
       "665    4.4    10W + 10W Speaker Output   \n",
       "\n",
       "                                               channel     Picture_quality  \\\n",
       "663                         HD Ready 1366 x 786 Pixels  60 Hz Refresh Rate   \n",
       "664  Netflix|Prime Video|Apple TV|Disney+Hotstar|Yo...   16 Speaker Output   \n",
       "665            Ultra HD (4K) 3840 x 2160 pixels Pixels  50 Hz Refresh Rate   \n",
       "\n",
       "     cnt_4k  cnt_8k  \n",
       "663       0       0  \n",
       "664       0       0  \n",
       "665       1       0  "
      ]
     },
     "execution_count": 34,
     "metadata": {},
     "output_type": "execute_result"
    }
   ],
   "source": [
    "df_q2.tail(3)"
   ]
  },
  {
   "cell_type": "code",
   "execution_count": 35,
   "id": "7eafab62",
   "metadata": {
    "collapsed": true
   },
   "outputs": [
    {
     "data": {
      "text/plain": [
       "cnt_4k\n",
       "1    365\n",
       "0    301\n",
       "Name: count, dtype: int64"
      ]
     },
     "execution_count": 35,
     "metadata": {},
     "output_type": "execute_result"
    }
   ],
   "source": [
    "df_q2[\"cnt_4k\"].value_counts()"
   ]
  },
  {
   "cell_type": "code",
   "execution_count": 36,
   "id": "a4e25f89",
   "metadata": {},
   "outputs": [
    {
     "data": {
      "text/plain": [
       "(3.2180821917808218, 3.6)"
      ]
     },
     "execution_count": 36,
     "metadata": {},
     "output_type": "execute_result"
    }
   ],
   "source": [
    "stat_4k = df_q2.loc[df_q2[\"cnt_4k\"] >= 1, \"Stars\"].mean()\n",
    "stat_8k = df_q2.loc[df_q2[\"cnt_8k\"] >= 1, \"Stars\"].mean()\n",
    "stat_4k, stat_8k"
   ]
  },
  {
   "cell_type": "code",
   "execution_count": 37,
   "id": "d2e1624c",
   "metadata": {},
   "outputs": [
    {
     "data": {
      "text/plain": [
       "0.38"
      ]
     },
     "execution_count": 37,
     "metadata": {},
     "output_type": "execute_result"
    }
   ],
   "source": [
    "round(abs(stat_4k - stat_8k), 2)"
   ]
  },
  {
   "cell_type": "markdown",
   "id": "988750f4",
   "metadata": {},
   "source": [
    "### Q3."
   ]
  },
  {
   "cell_type": "code",
   "execution_count": 41,
   "id": "28a32fca",
   "metadata": {},
   "outputs": [],
   "source": [
    "df_q3 = df.loc[~df[\"channel\"].str.contains(\"Pixel|Oper\"), ].reset_index()\n",
    "# df_q3.head(1)"
   ]
  },
  {
   "cell_type": "code",
   "execution_count": 45,
   "id": "be003367",
   "metadata": {},
   "outputs": [],
   "source": [
    "df_q3[\"x1\"] = df_q3[\"Reviews\"] / df_q3[\"Ratings\"]\n",
    "df_q3[\"x2\"] = df_q3[\"MRP\"]\n",
    "df_q3[\"x3\"] = df_q3[\"current_price\"] / df_q3[\"MRP\"]\n",
    "df_q3[\"x4\"] = df_q3[\"channel\"].str.contains(\"Netflix\") + 0\n",
    "df_q3[\"x5\"] = df_q3[\"channel\"].str.contains(\"Prime Video\") + 0\n",
    "df_q3[\"x6\"] = df_q3[\"Picture_quality\"].str.contains(\"4K|8K\") + 0"
   ]
  },
  {
   "cell_type": "code",
   "execution_count": null,
   "id": "3575fea1",
   "metadata": {},
   "outputs": [],
   "source": [
    "df_model = df_q3[[\"Stars\", \"x1\", \"x2\", \"x3\", \"x4\", \"x5\", \"x6\"]]\n",
    "df_model.head(2)"
   ]
  },
  {
   "cell_type": "code",
   "execution_count": null,
   "id": "e94b6839",
   "metadata": {},
   "outputs": [],
   "source": [
    "len(df_model)"
   ]
  },
  {
   "cell_type": "code",
   "execution_count": null,
   "id": "2914f3ed",
   "metadata": {},
   "outputs": [],
   "source": [
    "df_model.isna().sum()"
   ]
  },
  {
   "cell_type": "code",
   "execution_count": null,
   "id": "0dd62b5e",
   "metadata": {},
   "outputs": [],
   "source": [
    "df_model = df_model.dropna()\n",
    "len(df_model)"
   ]
  },
  {
   "cell_type": "code",
   "execution_count": null,
   "id": "8c5413b5",
   "metadata": {},
   "outputs": [],
   "source": [
    "model_rf = RandomForestRegressor(random_state = 123)\n",
    "model_rf.fit(X = df_model.drop(columns = \"Stars\"),\n",
    "             y = df_model[\"Stars\"])"
   ]
  },
  {
   "cell_type": "code",
   "execution_count": 53,
   "id": "d3f0c412",
   "metadata": {},
   "outputs": [
    {
     "data": {
      "text/plain": [
       "array([0.31220617, 0.17383963, 0.4446912 , 0.02714087, 0.02400442,\n",
       "       0.01811773])"
      ]
     },
     "execution_count": 53,
     "metadata": {},
     "output_type": "execute_result"
    }
   ],
   "source": [
    "model_rf.feature_importances_"
   ]
  },
  {
   "cell_type": "code",
   "execution_count": 54,
   "id": "14d7a2d8",
   "metadata": {},
   "outputs": [
    {
     "data": {
      "text/html": [
       "<div>\n",
       "<style scoped>\n",
       "    .dataframe tbody tr th:only-of-type {\n",
       "        vertical-align: middle;\n",
       "    }\n",
       "\n",
       "    .dataframe tbody tr th {\n",
       "        vertical-align: top;\n",
       "    }\n",
       "\n",
       "    .dataframe thead th {\n",
       "        text-align: right;\n",
       "    }\n",
       "</style>\n",
       "<table border=\"1\" class=\"dataframe\">\n",
       "  <thead>\n",
       "    <tr style=\"text-align: right;\">\n",
       "      <th></th>\n",
       "      <th>index</th>\n",
       "      <th>0</th>\n",
       "    </tr>\n",
       "  </thead>\n",
       "  <tbody>\n",
       "    <tr>\n",
       "      <th>0</th>\n",
       "      <td>x1</td>\n",
       "      <td>0.312206</td>\n",
       "    </tr>\n",
       "    <tr>\n",
       "      <th>1</th>\n",
       "      <td>x2</td>\n",
       "      <td>0.173840</td>\n",
       "    </tr>\n",
       "    <tr>\n",
       "      <th>2</th>\n",
       "      <td>x3</td>\n",
       "      <td>0.444691</td>\n",
       "    </tr>\n",
       "    <tr>\n",
       "      <th>3</th>\n",
       "      <td>x4</td>\n",
       "      <td>0.027141</td>\n",
       "    </tr>\n",
       "    <tr>\n",
       "      <th>4</th>\n",
       "      <td>x5</td>\n",
       "      <td>0.024004</td>\n",
       "    </tr>\n",
       "    <tr>\n",
       "      <th>5</th>\n",
       "      <td>x6</td>\n",
       "      <td>0.018118</td>\n",
       "    </tr>\n",
       "  </tbody>\n",
       "</table>\n",
       "</div>"
      ],
      "text/plain": [
       "  index         0\n",
       "0    x1  0.312206\n",
       "1    x2  0.173840\n",
       "2    x3  0.444691\n",
       "3    x4  0.027141\n",
       "4    x5  0.024004\n",
       "5    x6  0.018118"
      ]
     },
     "execution_count": 54,
     "metadata": {},
     "output_type": "execute_result"
    }
   ],
   "source": [
    "pd.Series(model_rf.feature_importances_, index = df_model.columns[1:]).reset_index()"
   ]
  },
  {
   "cell_type": "markdown",
   "id": "ccea777b",
   "metadata": {},
   "source": [
    "버전 차이에 의해 답이 다를 수 있음."
   ]
  },
  {
   "cell_type": "code",
   "execution_count": 55,
   "id": "1e5faeb4",
   "metadata": {},
   "outputs": [
    {
     "data": {
      "text/plain": [
       "'2.1.1'"
      ]
     },
     "execution_count": 55,
     "metadata": {},
     "output_type": "execute_result"
    }
   ],
   "source": [
    "pd.__version__"
   ]
  },
  {
   "cell_type": "code",
   "execution_count": 56,
   "id": "641c217b",
   "metadata": {},
   "outputs": [
    {
     "data": {
      "text/plain": [
       "'1.2.2'"
      ]
     },
     "execution_count": 56,
     "metadata": {},
     "output_type": "execute_result"
    }
   ],
   "source": [
    "import sklearn\n",
    "sklearn.__version__"
   ]
  },
  {
   "cell_type": "code",
   "execution_count": null,
   "id": "861ea559",
   "metadata": {},
   "outputs": [],
   "source": []
  },
  {
   "cell_type": "code",
   "execution_count": null,
   "id": "2eb1886e",
   "metadata": {},
   "outputs": [],
   "source": []
  }
 ],
 "metadata": {
  "kernelspec": {
   "display_name": "Python 3 (ipykernel)",
   "language": "python",
   "name": "python3"
  },
  "language_info": {
   "codemirror_mode": {
    "name": "ipython",
    "version": 3
   },
   "file_extension": ".py",
   "mimetype": "text/x-python",
   "name": "python",
   "nbconvert_exporter": "python",
   "pygments_lexer": "ipython3",
   "version": "3.9.12"
  }
 },
 "nbformat": 4,
 "nbformat_minor": 5
}
